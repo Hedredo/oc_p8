{
 "cells": [
  {
   "cell_type": "markdown",
   "metadata": {},
   "source": [
    "# Workflow\n",
    "https://docs.google.com/document/d/1kIbxaqzdPZqHEJRxwuFCAar-G8W78VFRgDUEF5Mesjw/edit?invite=CI_q4swC&tab=t.0\n",
    "\n",
    "\n",
    "# To-Do\n",
    "- Check Ressources OC à utiliser au début : https://openclassrooms.com/fr/paths/795/projects/1517/resources\n",
    "\n",
    "- Poetry\n",
    "    - Créer un environnement avec Poetry\n",
    "\n",
    "- Ressources to watch\n",
    "    - https://www.youtube.com/playlist?list=PLFELoXeMDOJOaI2W9By0Y30ZhLSf6Q4Si (Vidéos PA)\n",
    "    - https://cs231n.github.io/  (CNN for Visual Recognition)\n",
    "\n",
    "\n",
    "- Analyse pré-exploratoire et préparation des données\n",
    "    - Données train et val\n",
    "    - mapping des classes en catégories > https://github.com/mcordts/cityscapesScripts/blob/master/cityscapesscripts/helpers/labels.py\n",
    "    - Regarder l'équilibre des catégories avant le train-test-split\n",
    "\n",
    "- Prétraitement des données\n",
    "    - Redimenssionnement des img8bit avec interpolation ? BILINEAR ? Autre preprocessing ?\n",
    "    - Redimenssionnement des images de masques avec interpolation NEAREST (couleur + niveaux de gris)\n",
    "    - Normalisation des images\n",
    "\n",
    "- Implémenter le data generator\n",
    "    - Créer un DataLoader\n",
    "    - Créer un DataLoader avec Data Augmentation"
   ]
  }
 ],
 "metadata": {
  "language_info": {
   "name": "python"
  }
 },
 "nbformat": 4,
 "nbformat_minor": 2
}
