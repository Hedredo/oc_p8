{
 "cells": [
  {
   "cell_type": "markdown",
   "metadata": {},
   "source": [
    "- Les != approches à établir\n",
    "- Data Loader\n",
    "- Data Augmentation\n",
    "- Model\n",
    "- Training\n",
    "- Inference\n",
    "- Visualisation (image, mask, prediction)"
   ]
  }
 ],
 "metadata": {
  "language_info": {
   "name": "python"
  }
 },
 "nbformat": 4,
 "nbformat_minor": 2
}
