{
 "cells": [
  {
   "cell_type": "code",
   "execution_count": null,
   "metadata": {
    "vscode": {
     "languageId": "plaintext"
    }
   },
   "outputs": [],
   "source": [
    "from pydantic import BaseModel, field_validator\n",
    "from typing import Any\n",
    "from PIL import Image\n",
    "import numpy as np\n",
    "import io\n",
    "\n",
    "class ImageRGBModel(BaseModel):\n",
    "    image: Any  # Accepte n'importe quel type, mais on valide ensuite\n",
    "\n",
    "    @field_validator(\"image\")\n",
    "    @classmethod\n",
    "    def validate_image(cls, value):\n",
    "        \"\"\"Vérifie que l'entrée est une image RGB.\"\"\"\n",
    "        if isinstance(value, bytes):\n",
    "            try:\n",
    "                value = Image.open(io.BytesIO(value))  # Ouvrir depuis un flux binaire\n",
    "            except Exception:\n",
    "                raise ValueError(\"Impossible de charger l'image à partir des bytes.\")\n",
    "        \n",
    "        if not isinstance(value, Image.Image):\n",
    "            raise ValueError(\"L'entrée doit être une image PIL.\")\n",
    "        \n",
    "        if value.mode != \"RGB\":\n",
    "            raise ValueError(\"L'image doit être en mode RGB.\")\n",
    "        \n",
    "        return value\n",
    "\n",
    "# Test\n",
    "try:\n",
    "    img = Image.open(\"mon_image.jpg\")  # Charger une image\n",
    "    data = ImageRGBModel(image=img)  # Validation avec Pydantic\n",
    "    print(\"Image valide :\", data.image.size)\n",
    "except Exception as e:\n",
    "    print(\"Erreur :\", e)\n"
   ]
  },
  {
   "cell_type": "code",
   "execution_count": null,
   "metadata": {
    "vscode": {
     "languageId": "plaintext"
    }
   },
   "outputs": [],
   "source": [
    "class ImageRGBModel(BaseModel):\n",
    "    image: Any  # Accepte des images sous différents formats\n",
    "\n",
    "    @field_validator(\"image\")\n",
    "    @classmethod\n",
    "    def validate_image(cls, value):\n",
    "        \"\"\"Vérifie que l'entrée est une image RGB sous forme de PIL ou NumPy.\"\"\"\n",
    "        if isinstance(value, bytes):\n",
    "            try:\n",
    "                value = Image.open(io.BytesIO(value))\n",
    "            except Exception:\n",
    "                raise ValueError(\"Impossible de charger l'image à partir des bytes.\")\n",
    "\n",
    "        elif isinstance(value, np.ndarray):\n",
    "            if value.ndim != 3 or value.shape[2] != 3:\n",
    "                raise ValueError(\"L'image doit être en RGB (H, W, 3).\")\n",
    "            value = Image.fromarray(value)  # Convertir en PIL pour uniformiser\n",
    "        \n",
    "        if not isinstance(value, Image.Image):\n",
    "            raise ValueError(\"L'entrée doit être une image PIL ou un array NumPy.\")\n",
    "        \n",
    "        if value.mode != \"RGB\":\n",
    "            raise ValueError(\"L'image doit être en mode RGB.\")\n",
    "\n",
    "        return value\n"
   ]
  },
  {
   "cell_type": "code",
   "execution_count": null,
   "metadata": {
    "vscode": {
     "languageId": "plaintext"
    }
   },
   "outputs": [],
   "source": [
    "from fastapi import FastAPI, UploadFile, File\n",
    "from pydantic import ValidationError\n",
    "\n",
    "app = FastAPI()\n",
    "\n",
    "@app.post(\"/upload-image/\")\n",
    "async def upload_image(file: UploadFile = File(...)):\n",
    "    try:\n",
    "        img = Image.open(file.file)  # Charger l’image\n",
    "        data = ImageRGBModel(image=img)  # Valider avec Pydantic\n",
    "        return {\"message\": \"Image valide\", \"size\": data.image.size}\n",
    "    except ValidationError as e:\n",
    "        return {\"error\": e.errors()}\n",
    "    except Exception as e:\n",
    "        return {\"error\": str(e)}\n"
   ]
  }
 ],
 "metadata": {
  "language_info": {
   "name": "python"
  }
 },
 "nbformat": 4,
 "nbformat_minor": 2
}
